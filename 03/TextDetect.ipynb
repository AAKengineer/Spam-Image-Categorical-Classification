{
 "cells": [
  {
   "cell_type": "code",
   "execution_count": 2,
   "metadata": {},
   "outputs": [],
   "source": [
    "import cv2\n",
    "\n",
    "\n",
    "def captch_ex(file_name):\n",
    "    img = cv2.imread(file_name)\n",
    "\n",
    "    img_final = cv2.imread(file_name)\n",
    "    img2gray = cv2.cvtColor(img, cv2.COLOR_BGR2GRAY)\n",
    "    ret, mask = cv2.threshold(img2gray, 180, 255, cv2.THRESH_BINARY)\n",
    "    image_final = cv2.bitwise_and(img2gray, img2gray, mask=mask)\n",
    "    ret, new_img = cv2.threshold(image_final, 180, 255, cv2.THRESH_BINARY)  # for black text , cv.THRESH_BINARY_INV\n",
    "    '''\n",
    "            line  8 to 12  : Remove noisy portion \n",
    "    '''\n",
    "    kernel = cv2.getStructuringElement(cv2.MORPH_CROSS, (3,\n",
    "                                                         3))  # to manipulate the orientation of dilution , large x means horizonatally dilating  more, large y means vertically dilating more\n",
    "    dilated = cv2.dilate(new_img, kernel, iterations=9)  # dilate , more the iteration more the dilation\n",
    "\n",
    "    # for cv2.x.x\n",
    "\n",
    "    _, contours, hierarchy = cv2.findContours(dilated, cv2.RETR_EXTERNAL, cv2.CHAIN_APPROX_NONE)  # findContours returns 3 variables for getting contours\n",
    "\n",
    "    # for cv3.x.x comment above line and uncomment line below\n",
    "\n",
    "    #image, contours, hierarchy = cv2.findContours(dilated,cv2.RETR_EXTERNAL,cv2.CHAIN_APPROX_NONE)\n",
    "\n",
    "\n",
    "    for contour in contours:\n",
    "        # get rectangle bounding contour\n",
    "        [x, y, w, h] = cv2.boundingRect(contour)\n",
    "\n",
    "        # Don't plot small false positives that aren't text\n",
    "        if w < 35 and h < 35:\n",
    "            continue\n",
    "\n",
    "        # draw rectangle around contour on original image\n",
    "        cv2.rectangle(img, (x, y), (x + w, y + h), (255, 0, 255), 2)\n",
    "\n",
    "        '''\n",
    "        #you can crop image and send to OCR  , false detected will return no text :)\n",
    "        cropped = img_final[y :y +  h , x : x + w]\n",
    "\n",
    "        s = file_name + '/crop_' + str(index) + '.jpg' \n",
    "        cv2.imwrite(s , cropped)\n",
    "        index = index + 1\n",
    "\n",
    "        '''\n",
    "    # write original image with added contours to disk\n",
    "    cv2.imshow('captcha_result', img)\n",
    "    cv2.waitKey()\n",
    "\n",
    "\n",
    "file_name = 'donc3a2e282ace284a2t-chase-people-inspirational-life-quotes.jpg'\n",
    "captch_ex(file_name)"
   ]
  },
  {
   "cell_type": "code",
   "execution_count": null,
   "metadata": {},
   "outputs": [],
   "source": []
  }
 ],
 "metadata": {
  "kernelspec": {
   "display_name": "Python 3",
   "language": "python",
   "name": "python3"
  },
  "language_info": {
   "codemirror_mode": {
    "name": "ipython",
    "version": 3
   },
   "file_extension": ".py",
   "mimetype": "text/x-python",
   "name": "python",
   "nbconvert_exporter": "python",
   "pygments_lexer": "ipython3",
   "version": "3.6.4"
  }
 },
 "nbformat": 4,
 "nbformat_minor": 2
}

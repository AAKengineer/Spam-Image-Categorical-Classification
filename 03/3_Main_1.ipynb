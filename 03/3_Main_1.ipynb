{
 "cells": [
  {
   "cell_type": "code",
   "execution_count": 4,
   "metadata": {},
   "outputs": [
    {
     "ename": "SyntaxError",
     "evalue": "(unicode error) 'unicodeescape' codec can't decode bytes in position 87-88: truncated \\UXXXXXXXX escape (<ipython-input-4-74d8aea77bcb>, line 45)",
     "output_type": "error",
     "traceback": [
      "\u001b[1;36m  File \u001b[1;32m\"<ipython-input-4-74d8aea77bcb>\"\u001b[1;36m, line \u001b[1;32m45\u001b[0m\n\u001b[1;33m    print(\"*\"*100)'''\u001b[0m\n\u001b[1;37m                    ^\u001b[0m\n\u001b[1;31mSyntaxError\u001b[0m\u001b[1;31m:\u001b[0m (unicode error) 'unicodeescape' codec can't decode bytes in position 87-88: truncated \\UXXXXXXXX escape\n"
     ]
    }
   ],
   "source": [
    "#Main code down below.\n",
    "\n",
    "'''import cv2\n",
    "import os\n",
    "import matplotlib.pyplot as plt\n",
    "%matplotlib inline \n",
    "\n",
    "folder = r\"C:\\Users\\Aayush Verma\\Desktop\\MAJOR-1\\gitFolder\\TestCase\"  #Directory\n",
    "images = []\n",
    "count = 0\n",
    "for filename in os.listdir(folder):\n",
    "    img = cv2.imread(os.path.join(folder,filename))\n",
    "    if img is not None:\n",
    "        images.append(img)\n",
    "        count = count + 1\n",
    "\n",
    "print(\"No. of images in folder = \" + str(count))\n",
    "\n",
    "##############################################################################################################################\n",
    "\n",
    "\n",
    "cascPath = \"haarcascade_frontalface_default.xml\"       # Get user supplied values\n",
    "\n",
    "faceCascade = cv2.CascadeClassifier(cascPath)         # Create the haar cascade\n",
    "\n",
    "faceCascade = cv2.CascadeClassifier(cascPath)         # Create the haar cascade\n",
    "\n",
    "###################################################################################################################################\n",
    "\n",
    "for i in range(0,count):\n",
    "    image = images[i]\n",
    "    plt.imshow(image)\n",
    "    plt.show()\n",
    "\n",
    "    gray = cv2.cvtColor(image, cv2.COLOR_BGR2GRAY)\n",
    "\n",
    "    # Detect faces in the image\n",
    "    faces = faceCascade.detectMultiScale(gray, scaleFactor=1.5, minNeighbors=5, minSize=(30, 30), flags = cv2.CASCADE_SCALE_IMAGE)\n",
    "\n",
    "    print(\"Found {0} faces!\".format(len(faces)))\n",
    "\n",
    "    for (x, y, w, h) in faces:\n",
    "        cv2.rectangle(image, (x, y), (x+w, y+h), (0, 255, 0), 2)\n",
    "\n",
    "    plt.imshow(image)\n",
    "    plt.show()\n",
    "    print(\"*\"*100)'''"
   ]
  },
  {
   "cell_type": "code",
   "execution_count": 2,
   "metadata": {},
   "outputs": [
    {
     "name": "stdout",
     "output_type": "stream",
     "text": [
      "No. of images in folder = 18\n",
      "[0, 1, 1, 1, 0, 1, 0, 1, 1, 0, 1, 0, 0, 1, 0, 1, 0, 0]\n"
     ]
    }
   ],
   "source": [
    "#This Code Takes images from a target folder into a list and then scans for faces in each of them,\n",
    "# returning a list containin \"1\" for face and \"0\" for no face in a list of corresponding index.\n",
    "\n",
    "import cv2\n",
    "import os\n",
    "import matplotlib.pyplot as plt\n",
    "%matplotlib inline \n",
    "\n",
    "folder = r\"C:\\Users\\Aayush Verma\\Desktop\\MAJOR-1\\gitFolder\\TestCase\"  #Directory\n",
    "images = []\n",
    "count = 0\n",
    "for filename in os.listdir(folder):\n",
    "    img = cv2.imread(os.path.join(folder,filename))\n",
    "    if img is not None:\n",
    "        images.append(img)\n",
    "        count = count + 1\n",
    "\n",
    "print(\"No. of images in folder = \" + str(count))\n",
    "\n",
    "##############################################################################################################################\n",
    "\n",
    "\n",
    "cascPath = \"haarcascade_frontalface_default.xml\"       # Get user supplied values\n",
    "\n",
    "faceCascade = cv2.CascadeClassifier(cascPath)         # Create the haar cascade\n",
    "\n",
    "faceCascade = cv2.CascadeClassifier(cascPath)         # Create the haar cascade\n",
    "\n",
    "###################################################################################################################################\n",
    "\n",
    "face_list = []\n",
    "\n",
    "for i in range(0,count):\n",
    "    image = images[i]\n",
    "    \n",
    "    #plt.imshow(image)\n",
    "    #plt.show()\n",
    "\n",
    "    gray = cv2.cvtColor(image, cv2.COLOR_BGR2GRAY)\n",
    "\n",
    "    # Detect faces in the image\n",
    "    faces = faceCascade.detectMultiScale(gray, scaleFactor=1.5, minNeighbors=5, minSize=(30, 30), flags = cv2.CASCADE_SCALE_IMAGE)\n",
    "    \n",
    "    if(len(faces)>0):\n",
    "        face_list.append(1)\n",
    "    else:\n",
    "        face_list.append(0)\n",
    "    \n",
    "print(face_list)"
   ]
  },
  {
   "cell_type": "code",
   "execution_count": null,
   "metadata": {},
   "outputs": [],
   "source": []
  }
 ],
 "metadata": {
  "kernelspec": {
   "display_name": "Python 3",
   "language": "python",
   "name": "python3"
  },
  "language_info": {
   "codemirror_mode": {
    "name": "ipython",
    "version": 3
   },
   "file_extension": ".py",
   "mimetype": "text/x-python",
   "name": "python",
   "nbconvert_exporter": "python",
   "pygments_lexer": "ipython3",
   "version": "3.6.4"
  }
 },
 "nbformat": 4,
 "nbformat_minor": 2
}

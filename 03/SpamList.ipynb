{
 "cells": [
  {
   "cell_type": "code",
   "execution_count": 3,
   "metadata": {},
   "outputs": [
    {
     "name": "stdout",
     "output_type": "stream",
     "text": [
      "['happy', 'million', 'lottery', 'paypal', 'promo', 'congrat!', 'congrat', 'congrats', 'congratulation!', 'congratulation', 'congratulations', 'raffle', 'won', 'you have won', 'you won', 'win now', 'winner', 'winning number', 'win', 'diwali', 'holi', 'dussehra', 'navratri', 'puja', 'pujo', 'durga puja', 'janmashtmi', 'ganesh chaturthi', 'gurupurab', 'rakshabandhan', 'eid ul fitr', 'bihu', 'hemis', 'onam', 'pongal', 'christmas', 'easter', 'baisakhi', 'winner', 'winning', 'survey', 'surveys', 'scratch and win', 'million dollars', 'prize', 'lottery ', 'lotto ', 'congrat ', 'congratulations ', 'c0ngrats! ', 'congrats ', 'babes ', 'strip ', 'sexual ', 'lottery ', 'lotto ', 'congrat ', 'you have won ', 'c0ngratulati0ns', 'shiv', 'shiva', 'shivaya', 'ganesh', 'ganpati', 'krishna', 'radha', 'allah', 'ali', 'x-mas', 'jesus', 'christ', 'waheguru', 'hello', 'good', 'morning', 'night', 'evening', 'bharat', 'india', 'independence', 'jai ', 'traders', 'promotion', 'promotions', 'deal', 'om', 'new year', 'basant', 'panchmi', 'makar sakranti', 'jayanti', 'lori', 'lodi', 'mahashivratri', 'republic day', 'holika', \"children's day\", 'hanuman', 'bajrang bali', 'bollwood']\n"
     ]
    }
   ],
   "source": [
    "import csv\n",
    "\n",
    "f = open(r\"C:\\Users\\Aayush Verma\\Desktop\\MAJOR-1\\gitFolder\\03\\Spam.csv\",\"r\")\n",
    "\n",
    "reader = csv.reader(f)\n",
    "spam_list=[]\n",
    "\n",
    "for spam_words in reader:\n",
    "    temp = spam_words[0].lower()\n",
    "    spam_list.append(temp)\n",
    "        \n",
    "print(spam_list)"
   ]
  },
  {
   "cell_type": "code",
   "execution_count": null,
   "metadata": {},
   "outputs": [],
   "source": []
  },
  {
   "cell_type": "code",
   "execution_count": null,
   "metadata": {},
   "outputs": [],
   "source": []
  },
  {
   "cell_type": "code",
   "execution_count": null,
   "metadata": {},
   "outputs": [],
   "source": []
  }
 ],
 "metadata": {
  "kernelspec": {
   "display_name": "Python 3",
   "language": "python",
   "name": "python3"
  },
  "language_info": {
   "codemirror_mode": {
    "name": "ipython",
    "version": 3
   },
   "file_extension": ".py",
   "mimetype": "text/x-python",
   "name": "python",
   "nbconvert_exporter": "python",
   "pygments_lexer": "ipython3",
   "version": "3.6.4"
  }
 },
 "nbformat": 4,
 "nbformat_minor": 2
}
